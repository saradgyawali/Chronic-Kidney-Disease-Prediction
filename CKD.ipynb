{
 "cells": [
  {
   "cell_type": "markdown",
   "metadata": {},
   "source": [
    "# Chronic Kidney Disease Analysis And Prediction Model\n",
    "\n",
    "\n",
    "**The task involves _analysis_ of key factors (attributes) influencing the presence of chronic kidney disease and _building a prediction model_ to predict the presence of chronic kidney disease based on provided attributes in new patients.**\n",
    "\n",
    "#### Given information:\n",
    "    1. Data set containing 24 attributes required to determine presence of chronic kindney disease- kidneyChronic.csv."
   ]
  },
  {
   "cell_type": "markdown",
   "metadata": {},
   "source": [
    "## Importing required libraries"
   ]
  },
  {
   "cell_type": "code",
   "execution_count": 424,
   "metadata": {},
   "outputs": [],
   "source": [
    "import pandas as pd\n",
    "import numpy as np"
   ]
  },
  {
   "cell_type": "markdown",
   "metadata": {},
   "source": [
    "## Importing data set"
   ]
  },
  {
   "cell_type": "code",
   "execution_count": 425,
   "metadata": {},
   "outputs": [],
   "source": [
    "df = pd.read_csv('kidneyChronic.csv')"
   ]
  },
  {
   "cell_type": "markdown",
   "metadata": {},
   "source": [
    "## Imputing 'NaN' values in place of '?'"
   ]
  },
  {
   "cell_type": "code",
   "execution_count": 426,
   "metadata": {},
   "outputs": [
    {
     "data": {
      "text/plain": [
       "age        9\n",
       "bp        12\n",
       "sg        47\n",
       "al        46\n",
       "su        49\n",
       "rbc      152\n",
       "pc        65\n",
       "pcc        4\n",
       "ba         4\n",
       "bgr       44\n",
       "bu        19\n",
       "sc        17\n",
       "sod       87\n",
       "pot       88\n",
       "hemo      52\n",
       "pcv       70\n",
       "wbcc     105\n",
       "rbcc     130\n",
       "htn        2\n",
       "dm         2\n",
       "cad        2\n",
       "appet      1\n",
       "pe         1\n",
       "ane        1\n",
       "class      0\n",
       "dtype: int64"
      ]
     },
     "execution_count": 426,
     "metadata": {},
     "output_type": "execute_result"
    }
   ],
   "source": [
    "df.replace('?', np.nan, inplace=True)\n",
    "df.isnull().sum()"
   ]
  },
  {
   "cell_type": "markdown",
   "metadata": {},
   "source": [
    "## Handling 'NaN' and 'Bad' values (Numerical attributes)"
   ]
  },
  {
   "cell_type": "code",
   "execution_count": 427,
   "metadata": {},
   "outputs": [],
   "source": [
    "# Numerical columns\n",
    "num_int_cols = ['age', 'bp', 'al', 'su', 'bgr', 'bu', 'sod', 'pcv', 'wbcc']\n",
    "num_float_cols = ['sg', 'sc', 'pot', 'hemo', 'rbcc']"
   ]
  },
  {
   "cell_type": "code",
   "execution_count": 428,
   "metadata": {},
   "outputs": [],
   "source": [
    "# Convert from 'object' dtype and assign 'NaN' for invalid parsed values\n",
    "df[num_int_cols] = df[num_int_cols].apply(pd.to_numeric, errors='coerce')\n",
    "df[num_float_cols] = df[num_float_cols].apply(pd.to_numeric, errors='coerce')\n",
    "\n",
    "# Replacing 'NaN' values with arithmetic mean and converting back to 'int' dtype\n",
    "for col in num_int_cols:\n",
    "    df[col]=df[col].fillna(np.mean(pd.factorize(col)[0]))\n",
    "    df[col]=df[col].astype(int)\n",
    "\n",
    "# Replacing 'NaN' values with arithmetic mean and keeping values as-is for 'float' dtype\n",
    "for col in num_float_cols:\n",
    "    df[col]=df[col].fillna(np.mean(pd.factorize(col)[0]))"
   ]
  },
  {
   "cell_type": "code",
   "execution_count": 429,
   "metadata": {},
   "outputs": [
    {
     "data": {
      "text/plain": [
       "age        0\n",
       "bp         0\n",
       "sg         0\n",
       "al         0\n",
       "su         0\n",
       "rbc      152\n",
       "pc        65\n",
       "pcc        4\n",
       "ba         4\n",
       "bgr        0\n",
       "bu         0\n",
       "sc         0\n",
       "sod        0\n",
       "pot        0\n",
       "hemo       0\n",
       "pcv        0\n",
       "wbcc       0\n",
       "rbcc       0\n",
       "htn        2\n",
       "dm         2\n",
       "cad        2\n",
       "appet      1\n",
       "pe         1\n",
       "ane        1\n",
       "class      0\n",
       "dtype: int64"
      ]
     },
     "execution_count": 429,
     "metadata": {},
     "output_type": "execute_result"
    }
   ],
   "source": [
    "# Finding 'NaN' values in data frame\n",
    "df.isnull().sum()"
   ]
  },
  {
   "cell_type": "markdown",
   "metadata": {},
   "source": [
    "## Handling 'NaN' values (Categrorical attributes)"
   ]
  },
  {
   "cell_type": "code",
   "execution_count": 430,
   "metadata": {},
   "outputs": [
    {
     "name": "stdout",
     "output_type": "stream",
     "text": [
      "normal      201\n",
      "NaN         152\n",
      "abnormal     47\n",
      "Name: rbc, dtype: int64\n"
     ]
    }
   ],
   "source": [
    "# Print the value counts for 'rbc'\n",
    "print(df['rbc'].value_counts(dropna=False))"
   ]
  },
  {
   "cell_type": "code",
   "execution_count": 431,
   "metadata": {},
   "outputs": [
    {
     "name": "stdout",
     "output_type": "stream",
     "text": [
      "normal      353\n",
      "abnormal     47\n",
      "Name: rbc, dtype: int64\n"
     ]
    }
   ],
   "source": [
    "# Impute 'NaN' values for 'rcb' column with most frequent value, i.e. 'normal'\n",
    "df['rbc']=df['rbc'].fillna('normal')\n",
    "# Print value counts for 'rbc' again\n",
    "print(df['rbc'].value_counts(dropna=False))"
   ]
  },
  {
   "cell_type": "code",
   "execution_count": 432,
   "metadata": {},
   "outputs": [
    {
     "name": "stdout",
     "output_type": "stream",
     "text": [
      "normal      259\n",
      "abnormal     76\n",
      "NaN          65\n",
      "Name: pc, dtype: int64\n"
     ]
    }
   ],
   "source": [
    "# Print the value counts for 'pc'\n",
    "print(df['pc'].value_counts(dropna=False))"
   ]
  },
  {
   "cell_type": "code",
   "execution_count": 433,
   "metadata": {},
   "outputs": [
    {
     "name": "stdout",
     "output_type": "stream",
     "text": [
      "normal      324\n",
      "abnormal     76\n",
      "Name: pc, dtype: int64\n"
     ]
    }
   ],
   "source": [
    "# Impute 'NaN' values for 'pc' column with most frequent value, i.e. 'normal'\n",
    "df['pc']=df['pc'].fillna('normal')\n",
    "# Print value counts for 'pc' again\n",
    "print(df['pc'].value_counts(dropna=False))"
   ]
  },
  {
   "cell_type": "code",
   "execution_count": 434,
   "metadata": {},
   "outputs": [
    {
     "name": "stdout",
     "output_type": "stream",
     "text": [
      "notpresent    354\n",
      "present        42\n",
      "NaN             4\n",
      "Name: pcc, dtype: int64\n"
     ]
    }
   ],
   "source": [
    "# Print the value counts for 'pcc'\n",
    "print(df['pcc'].value_counts(dropna=False))"
   ]
  },
  {
   "cell_type": "code",
   "execution_count": 435,
   "metadata": {},
   "outputs": [
    {
     "name": "stdout",
     "output_type": "stream",
     "text": [
      "notpresent    358\n",
      "present        42\n",
      "Name: pcc, dtype: int64\n"
     ]
    }
   ],
   "source": [
    "# Impute 'NaN' values for 'pcc' column with most frequent value, i.e. 'notpresent'\n",
    "df['pcc']=df['pcc'].fillna('notpresent')\n",
    "# Print value counts for 'pcc' again\n",
    "print(df['pcc'].value_counts(dropna=False))"
   ]
  },
  {
   "cell_type": "code",
   "execution_count": 436,
   "metadata": {},
   "outputs": [
    {
     "name": "stdout",
     "output_type": "stream",
     "text": [
      "notpresent    374\n",
      "present        22\n",
      "NaN             4\n",
      "Name: ba, dtype: int64\n"
     ]
    }
   ],
   "source": [
    "# Print the value counts for 'ba'\n",
    "print(df['ba'].value_counts(dropna=False))"
   ]
  },
  {
   "cell_type": "code",
   "execution_count": 437,
   "metadata": {},
   "outputs": [
    {
     "name": "stdout",
     "output_type": "stream",
     "text": [
      "notpresent    378\n",
      "present        22\n",
      "Name: ba, dtype: int64\n"
     ]
    }
   ],
   "source": [
    "# Impute 'NaN' values for 'ba' column with most frequent value, i.e. 'notpresent'\n",
    "df['ba']=df['ba'].fillna('notpresent')\n",
    "# Print value counts for 'ba' again\n",
    "print(df['ba'].value_counts(dropna=False))"
   ]
  },
  {
   "cell_type": "code",
   "execution_count": 438,
   "metadata": {},
   "outputs": [
    {
     "name": "stdout",
     "output_type": "stream",
     "text": [
      "no     251\n",
      "yes    147\n",
      "NaN      2\n",
      "Name: htn, dtype: int64\n"
     ]
    }
   ],
   "source": [
    "# Print the value counts for 'htn'\n",
    "print(df['htn'].value_counts(dropna=False))"
   ]
  },
  {
   "cell_type": "code",
   "execution_count": 439,
   "metadata": {},
   "outputs": [
    {
     "name": "stdout",
     "output_type": "stream",
     "text": [
      "no     253\n",
      "yes    147\n",
      "Name: htn, dtype: int64\n"
     ]
    }
   ],
   "source": [
    "# Impute 'NaN' values for 'htn' column with most frequent value, i.e. 'no'\n",
    "df['htn']=df['htn'].fillna('no')\n",
    "# Print value counts for 'htn' again\n",
    "print(df['htn'].value_counts(dropna=False))"
   ]
  },
  {
   "cell_type": "code",
   "execution_count": 440,
   "metadata": {},
   "outputs": [
    {
     "name": "stdout",
     "output_type": "stream",
     "text": [
      "no       258\n",
      "yes      134\n",
      "\\tno       3\n",
      "\\tyes      2\n",
      "NaN        2\n",
      " yes       1\n",
      "Name: dm, dtype: int64\n"
     ]
    }
   ],
   "source": [
    "# Print the value counts for 'dm'\n",
    "print(df['dm'].value_counts(dropna=False))"
   ]
  },
  {
   "cell_type": "code",
   "execution_count": 441,
   "metadata": {},
   "outputs": [
    {
     "name": "stdout",
     "output_type": "stream",
     "text": [
      "no     263\n",
      "yes    137\n",
      "Name: dm, dtype: int64\n"
     ]
    }
   ],
   "source": [
    "# Impute 'NaN' values for 'dm' column with most frequent value, i.e. 'no'\n",
    "df['dm']=df['dm'].fillna('no')\n",
    "# Replacing '\\t' and ' ' with empty string value ''\n",
    "df['dm'].replace(['\\t',' '], '', regex=True, inplace= True)\n",
    "# Print value counts for 'dm' again\n",
    "print(df['dm'].value_counts(dropna=False))"
   ]
  },
  {
   "cell_type": "code",
   "execution_count": 442,
   "metadata": {},
   "outputs": [
    {
     "name": "stdout",
     "output_type": "stream",
     "text": [
      "no      362\n",
      "yes      34\n",
      "\\tno      2\n",
      "NaN       2\n",
      "Name: cad, dtype: int64\n"
     ]
    }
   ],
   "source": [
    "# Print the value counts for 'cad'\n",
    "print(df['cad'].value_counts(dropna=False))"
   ]
  },
  {
   "cell_type": "code",
   "execution_count": 443,
   "metadata": {},
   "outputs": [
    {
     "name": "stdout",
     "output_type": "stream",
     "text": [
      "no     366\n",
      "yes     34\n",
      "Name: cad, dtype: int64\n"
     ]
    }
   ],
   "source": [
    "# Impute 'NaN' values for 'cad' column with most frequent value, i.e. 'no'\n",
    "df['cad']=df['cad'].fillna('no')\n",
    "# Replacing '\\t' and ' ' with empty string value ''\n",
    "df['cad'].replace(['\\t'], '', regex=True, inplace= True)\n",
    "# Print value counts for 'cad' again\n",
    "print(df['cad'].value_counts(dropna=False))"
   ]
  },
  {
   "cell_type": "code",
   "execution_count": 444,
   "metadata": {},
   "outputs": [
    {
     "name": "stdout",
     "output_type": "stream",
     "text": [
      "good    317\n",
      "poor     82\n",
      "NaN       1\n",
      "Name: appet, dtype: int64\n"
     ]
    }
   ],
   "source": [
    "# Print the value counts for 'appet'\n",
    "print(df['appet'].value_counts(dropna=False))"
   ]
  },
  {
   "cell_type": "code",
   "execution_count": 445,
   "metadata": {},
   "outputs": [
    {
     "name": "stdout",
     "output_type": "stream",
     "text": [
      "good    318\n",
      "poor     82\n",
      "Name: appet, dtype: int64\n"
     ]
    }
   ],
   "source": [
    "# Impute 'NaN' values for 'appet' column with most frequent value, i.e. 'good'\n",
    "df['appet']=df['appet'].fillna('good')\n",
    "# Print value counts for 'appet' again\n",
    "print(df['appet'].value_counts(dropna=False))"
   ]
  },
  {
   "cell_type": "code",
   "execution_count": 446,
   "metadata": {},
   "outputs": [
    {
     "name": "stdout",
     "output_type": "stream",
     "text": [
      "no     323\n",
      "yes     76\n",
      "NaN      1\n",
      "Name: pe, dtype: int64\n"
     ]
    }
   ],
   "source": [
    "# Print the value counts for 'pe'\n",
    "print(df['pe'].value_counts(dropna=False))"
   ]
  },
  {
   "cell_type": "code",
   "execution_count": 447,
   "metadata": {},
   "outputs": [
    {
     "name": "stdout",
     "output_type": "stream",
     "text": [
      "no     324\n",
      "yes     76\n",
      "Name: pe, dtype: int64\n"
     ]
    }
   ],
   "source": [
    "# Impute 'NaN' values for 'pe' column with most frequent value, i.e. 'no'\n",
    "df['pe']=df['pe'].fillna('no')\n",
    "# Print value counts for 'pe' again\n",
    "print(df['pe'].value_counts(dropna=False))"
   ]
  },
  {
   "cell_type": "code",
   "execution_count": 448,
   "metadata": {},
   "outputs": [
    {
     "name": "stdout",
     "output_type": "stream",
     "text": [
      "no     339\n",
      "yes     60\n",
      "NaN      1\n",
      "Name: ane, dtype: int64\n"
     ]
    }
   ],
   "source": [
    "# Print the value counts for 'ane'\n",
    "print(df['ane'].value_counts(dropna=False))"
   ]
  },
  {
   "cell_type": "code",
   "execution_count": 449,
   "metadata": {},
   "outputs": [
    {
     "name": "stdout",
     "output_type": "stream",
     "text": [
      "no     340\n",
      "yes     60\n",
      "Name: ane, dtype: int64\n"
     ]
    }
   ],
   "source": [
    "# Impute 'NaN' values for 'ane' column with most frequent value, i.e. 'no'\n",
    "df['ane']=df['ane'].fillna('no')\n",
    "# Print value counts for 'ane' again\n",
    "print(df['ane'].value_counts(dropna=False))"
   ]
  },
  {
   "cell_type": "code",
   "execution_count": 450,
   "metadata": {},
   "outputs": [
    {
     "name": "stdout",
     "output_type": "stream",
     "text": [
      "<class 'pandas.core.frame.DataFrame'>\n",
      "RangeIndex: 400 entries, 0 to 399\n",
      "Data columns (total 25 columns):\n",
      "age      400 non-null int32\n",
      "bp       400 non-null int32\n",
      "sg       400 non-null float64\n",
      "al       400 non-null int32\n",
      "su       400 non-null int32\n",
      "rbc      400 non-null object\n",
      "pc       400 non-null object\n",
      "pcc      400 non-null object\n",
      "ba       400 non-null object\n",
      "bgr      400 non-null int32\n",
      "bu       400 non-null int32\n",
      "sc       400 non-null float64\n",
      "sod      400 non-null int32\n",
      "pot      400 non-null float64\n",
      "hemo     400 non-null float64\n",
      "pcv      400 non-null int32\n",
      "wbcc     400 non-null int32\n",
      "rbcc     400 non-null float64\n",
      "htn      400 non-null object\n",
      "dm       400 non-null object\n",
      "cad      400 non-null object\n",
      "appet    400 non-null object\n",
      "pe       400 non-null object\n",
      "ane      400 non-null object\n",
      "class    400 non-null object\n",
      "dtypes: float64(5), int32(9), object(11)\n",
      "memory usage: 46.9+ KB\n",
      "None\n"
     ]
    }
   ],
   "source": [
    "print(df.info())"
   ]
  },
  {
   "cell_type": "code",
   "execution_count": 451,
   "metadata": {},
   "outputs": [
    {
     "data": {
      "text/plain": [
       "age      0\n",
       "bp       0\n",
       "sg       0\n",
       "al       0\n",
       "su       0\n",
       "rbc      0\n",
       "pc       0\n",
       "pcc      0\n",
       "ba       0\n",
       "bgr      0\n",
       "bu       0\n",
       "sc       0\n",
       "sod      0\n",
       "pot      0\n",
       "hemo     0\n",
       "pcv      0\n",
       "wbcc     0\n",
       "rbcc     0\n",
       "htn      0\n",
       "dm       0\n",
       "cad      0\n",
       "appet    0\n",
       "pe       0\n",
       "ane      0\n",
       "class    0\n",
       "dtype: int64"
      ]
     },
     "execution_count": 451,
     "metadata": {},
     "output_type": "execute_result"
    }
   ],
   "source": [
    "# Check for presence of null values\n",
    "df.isnull().sum()"
   ]
  },
  {
   "cell_type": "markdown",
   "metadata": {},
   "source": [
    "## Separating feature variables and target variable"
   ]
  },
  {
   "cell_type": "code",
   "execution_count": 452,
   "metadata": {},
   "outputs": [],
   "source": [
    "X=df.drop('class',axis='columns')\n",
    "Y=df['class']"
   ]
  },
  {
   "cell_type": "markdown",
   "metadata": {},
   "source": [
    "## Handling categorical columns in feature variable\n",
    "\n",
    "Many machine learning model not accept categorical column in feature variable so we will convert categorical column in feature variable in numerical variable by creating dummy variables"
   ]
  },
  {
   "cell_type": "code",
   "execution_count": 453,
   "metadata": {},
   "outputs": [],
   "source": [
    "X=pd.get_dummies(X,drop_first=True)"
   ]
  },
  {
   "cell_type": "code",
   "execution_count": 454,
   "metadata": {},
   "outputs": [
    {
     "name": "stdout",
     "output_type": "stream",
     "text": [
      "<class 'pandas.core.frame.DataFrame'>\n",
      "RangeIndex: 400 entries, 0 to 399\n",
      "Data columns (total 24 columns):\n",
      "age            400 non-null int32\n",
      "bp             400 non-null int32\n",
      "sg             400 non-null float64\n",
      "al             400 non-null int32\n",
      "su             400 non-null int32\n",
      "bgr            400 non-null int32\n",
      "bu             400 non-null int32\n",
      "sc             400 non-null float64\n",
      "sod            400 non-null int32\n",
      "pot            400 non-null float64\n",
      "hemo           400 non-null float64\n",
      "pcv            400 non-null int32\n",
      "wbcc           400 non-null int32\n",
      "rbcc           400 non-null float64\n",
      "rbc_normal     400 non-null uint8\n",
      "pc_normal      400 non-null uint8\n",
      "pcc_present    400 non-null uint8\n",
      "ba_present     400 non-null uint8\n",
      "htn_yes        400 non-null uint8\n",
      "dm_yes         400 non-null uint8\n",
      "cad_yes        400 non-null uint8\n",
      "appet_poor     400 non-null uint8\n",
      "pe_yes         400 non-null uint8\n",
      "ane_yes        400 non-null uint8\n",
      "dtypes: float64(5), int32(9), uint8(10)\n",
      "memory usage: 33.7 KB\n",
      "None\n"
     ]
    }
   ],
   "source": [
    "print(X.info())"
   ]
  },
  {
   "cell_type": "markdown",
   "metadata": {},
   "source": [
    "## Checking for bad/missing values in target variable"
   ]
  },
  {
   "cell_type": "code",
   "execution_count": 455,
   "metadata": {},
   "outputs": [
    {
     "name": "stdout",
     "output_type": "stream",
     "text": [
      "ckd       250\n",
      "notckd    150\n",
      "Name: class, dtype: int64\n"
     ]
    }
   ],
   "source": [
    "print(Y.value_counts(dropna=False))"
   ]
  },
  {
   "cell_type": "markdown",
   "metadata": {},
   "source": [
    "## Random Forest Classifier"
   ]
  },
  {
   "cell_type": "code",
   "execution_count": 456,
   "metadata": {},
   "outputs": [
    {
     "name": "stdout",
     "output_type": "stream",
     "text": [
      "              precision    recall  f1-score   support\n",
      "\n",
      "         ckd       1.00      0.97      0.99       205\n",
      "      notckd       0.95      1.00      0.97       115\n",
      "\n",
      "    accuracy                           0.98       320\n",
      "   macro avg       0.98      0.99      0.98       320\n",
      "weighted avg       0.98      0.98      0.98       320\n",
      "\n",
      "Accuracy of the given model is : 0.98125\n"
     ]
    }
   ],
   "source": [
    "from sklearn.ensemble import RandomForestClassifier\n",
    "from sklearn.metrics import accuracy_score\n",
    "from sklearn.model_selection import train_test_split\n",
    "from sklearn.metrics import classification_report\n",
    "X_train,X_test,y_train,y_test=train_test_split(X,Y,test_size=0.80,random_state=42)\n",
    "rf=RandomForestClassifier(n_estimators=50,min_samples_leaf=0.20,random_state=42)\n",
    "rf.fit(X_train,y_train)\n",
    "pred=rf.predict(X_test)\n",
    "print(classification_report(y_test,pred))\n",
    "print(\"Accuracy of the given model is : {}\".format(accuracy_score(y_test,pred)))"
   ]
  },
  {
   "cell_type": "code",
   "execution_count": null,
   "metadata": {},
   "outputs": [],
   "source": []
  }
 ],
 "metadata": {
  "kernelspec": {
   "display_name": "Python 3",
   "language": "python",
   "name": "python3"
  },
  "language_info": {
   "codemirror_mode": {
    "name": "ipython",
    "version": 3
   },
   "file_extension": ".py",
   "mimetype": "text/x-python",
   "name": "python",
   "nbconvert_exporter": "python",
   "pygments_lexer": "ipython3",
   "version": "3.7.1"
  }
 },
 "nbformat": 4,
 "nbformat_minor": 2
}
